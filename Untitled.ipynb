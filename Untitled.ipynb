{
 "cells": [
  {
   "cell_type": "code",
   "execution_count": 4,
   "metadata": {},
   "outputs": [
    {
     "name": "stdout",
     "output_type": "stream",
     "text": [
      "[master (root-commit) 94293e3] .\n",
      " Committer: Ubuntu <minhanh98@TextClassification.n45eja32aaieznkrbsxzs23cbc.bx.internal.cloudapp.net>\n",
      "Your name and email address were configured automatically based\n",
      "on your username and hostname. Please check that they are accurate.\n",
      "You can suppress this message by setting them explicitly. Run the\n",
      "following command and follow the instructions in your editor to edit\n",
      "your configuration file:\n",
      "\n",
      "    git config --global --edit\n",
      "\n",
      "After doing this, you may fix the identity used for this commit with:\n",
      "\n",
      "    git commit --amend --reset-author\n",
      "\n",
      " 9 files changed, 223305 insertions(+)\n",
      " create mode 100644 BuildModel.py\n",
      " create mode 100644 Data_helper.py\n",
      " create mode 100644 Download_Glove.py\n",
      " create mode 100644 L1.txt\n",
      " create mode 100644 L2.txt\n",
      " create mode 100644 Untitled.ipynb\n",
      " create mode 100644 X.txt\n",
      " create mode 100644 label.txt\n",
      " create mode 100644 model.py\n"
     ]
    }
   ],
   "source": [
    "!git commit -m '.'"
   ]
  }
 ],
 "metadata": {
  "kernelspec": {
   "display_name": "Python 3",
   "language": "python",
   "name": "python3"
  },
  "language_info": {
   "codemirror_mode": {
    "name": "ipython",
    "version": 3
   },
   "file_extension": ".py",
   "mimetype": "text/x-python",
   "name": "python",
   "nbconvert_exporter": "python",
   "pygments_lexer": "ipython3",
   "version": "3.7.6"
  }
 },
 "nbformat": 4,
 "nbformat_minor": 4
}
